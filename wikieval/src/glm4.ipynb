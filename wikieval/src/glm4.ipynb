{
 "cells": [
  {
   "cell_type": "code",
   "execution_count": 1,
   "id": "f96c5988-d4d9-444a-8172-6654a4782f4d",
   "metadata": {},
   "outputs": [
    {
     "name": "stdout",
     "output_type": "stream",
     "text": [
      "Looking in indexes: https://pypi.tuna.tsinghua.edu.cn/simple\n",
      "Requirement already satisfied: tiktoken in /opt/conda/lib/python3.10/site-packages (0.8.0)\n",
      "Collecting transformers==4.41\n",
      "  Downloading https://pypi.tuna.tsinghua.edu.cn/packages/07/78/c23e1c70b89f361d855a5d0a19b229297f6456961f9a1afa9a69cd5a70c3/transformers-4.41.0-py3-none-any.whl (9.1 MB)\n",
      "\u001b[2K     \u001b[90m━━━━━━━━━━━━━━━━━━━━━━━━━━━━━━━━━━━━━━━━\u001b[0m \u001b[32m9.1/9.1 MB\u001b[0m \u001b[31m2.0 MB/s\u001b[0m eta \u001b[36m0:00:00\u001b[0m00:01\u001b[0m00:01\u001b[0m\n",
      "\u001b[?25hRequirement already satisfied: filelock in /opt/conda/lib/python3.10/site-packages (from transformers==4.41) (3.16.1)\n",
      "Requirement already satisfied: huggingface-hub<1.0,>=0.23.0 in /opt/conda/lib/python3.10/site-packages (from transformers==4.41) (0.26.2)\n",
      "Requirement already satisfied: numpy>=1.17 in /opt/conda/lib/python3.10/site-packages (from transformers==4.41) (1.25.2)\n",
      "Requirement already satisfied: packaging>=20.0 in /opt/conda/lib/python3.10/site-packages (from transformers==4.41) (23.2)\n",
      "Requirement already satisfied: pyyaml>=5.1 in /opt/conda/lib/python3.10/site-packages (from transformers==4.41) (6.0.1)\n",
      "Requirement already satisfied: regex!=2019.12.17 in /opt/conda/lib/python3.10/site-packages (from transformers==4.41) (2023.10.3)\n",
      "Requirement already satisfied: requests in /opt/conda/lib/python3.10/site-packages (from transformers==4.41) (2.31.0)\n",
      "Collecting tokenizers<0.20,>=0.19 (from transformers==4.41)\n",
      "  Downloading https://pypi.tuna.tsinghua.edu.cn/packages/40/4f/eb78de4af3b17b589f43a369cbf0c3a7173f25c3d2cd93068852c07689aa/tokenizers-0.19.1-cp310-cp310-manylinux_2_17_x86_64.manylinux2014_x86_64.whl (3.6 MB)\n",
      "\u001b[2K     \u001b[90m━━━━━━━━━━━━━━━━━━━━━━━━━━━━━━━━━━━━━━━━\u001b[0m \u001b[32m3.6/3.6 MB\u001b[0m \u001b[31m2.0 MB/s\u001b[0m eta \u001b[36m0:00:00\u001b[0m00:01\u001b[0m00:01\u001b[0m\n",
      "\u001b[?25hRequirement already satisfied: safetensors>=0.4.1 in /opt/conda/lib/python3.10/site-packages (from transformers==4.41) (0.4.1)\n",
      "Requirement already satisfied: tqdm>=4.27 in /opt/conda/lib/python3.10/site-packages (from transformers==4.41) (4.66.1)\n",
      "Requirement already satisfied: fsspec>=2023.5.0 in /opt/conda/lib/python3.10/site-packages (from huggingface-hub<1.0,>=0.23.0->transformers==4.41) (2024.3.1)\n",
      "Requirement already satisfied: typing-extensions>=3.7.4.3 in /opt/conda/lib/python3.10/site-packages (from huggingface-hub<1.0,>=0.23.0->transformers==4.41) (4.8.0)\n",
      "Requirement already satisfied: charset-normalizer<4,>=2 in /opt/conda/lib/python3.10/site-packages (from requests->transformers==4.41) (2.0.4)\n",
      "Requirement already satisfied: idna<4,>=2.5 in /opt/conda/lib/python3.10/site-packages (from requests->transformers==4.41) (3.7)\n",
      "Requirement already satisfied: urllib3<3,>=1.21.1 in /opt/conda/lib/python3.10/site-packages (from requests->transformers==4.41) (1.26.18)\n",
      "Requirement already satisfied: certifi>=2017.4.17 in /opt/conda/lib/python3.10/site-packages (from requests->transformers==4.41) (2024.2.2)\n",
      "Installing collected packages: tokenizers, transformers\n",
      "  Attempting uninstall: tokenizers\n",
      "    Found existing installation: tokenizers 0.20.2\n",
      "    Uninstalling tokenizers-0.20.2:\n",
      "      Successfully uninstalled tokenizers-0.20.2\n",
      "  Attempting uninstall: transformers\n",
      "    Found existing installation: transformers 4.46.1\n",
      "    Uninstalling transformers-4.46.1:\n",
      "      Successfully uninstalled transformers-4.46.1\n",
      "Successfully installed tokenizers-0.19.1 transformers-4.41.0\n",
      "\u001b[33mWARNING: Running pip as the 'root' user can result in broken permissions and conflicting behaviour with the system package manager. It is recommended to use a virtual environment instead: https://pip.pypa.io/warnings/venv\u001b[0m\u001b[33m\n",
      "\u001b[0m\n",
      "\u001b[1m[\u001b[0m\u001b[34;49mnotice\u001b[0m\u001b[1;39;49m]\u001b[0m\u001b[39;49m A new release of pip is available: \u001b[0m\u001b[31;49m23.3.1\u001b[0m\u001b[39;49m -> \u001b[0m\u001b[32;49m24.3.1\u001b[0m\n",
      "\u001b[1m[\u001b[0m\u001b[34;49mnotice\u001b[0m\u001b[1;39;49m]\u001b[0m\u001b[39;49m To update, run: \u001b[0m\u001b[32;49mpip install --upgrade pip\u001b[0m\n"
     ]
    }
   ],
   "source": [
    "!pip install tiktoken transformers==4.41"
   ]
  },
  {
   "cell_type": "code",
   "execution_count": 3,
   "id": "772f64ba-3075-4b08-9b4d-0969b0c9f746",
   "metadata": {
    "tags": []
   },
   "outputs": [
    {
     "name": "stderr",
     "output_type": "stream",
     "text": [
      "Special tokens have been added in the vocabulary, make sure the associated word embeddings are fine-tuned or trained.\n"
     ]
    },
    {
     "data": {
      "application/vnd.jupyter.widget-view+json": {
       "model_id": "a45889ee675b42a9b9cc2007b5a1c557",
       "version_major": 2,
       "version_minor": 0
      },
      "text/plain": [
       "Loading checkpoint shards:   0%|          | 0/10 [00:00<?, ?it/s]"
      ]
     },
     "metadata": {},
     "output_type": "display_data"
    },
    {
     "name": "stdout",
     "output_type": "stream",
     "text": [
      "\n",
      "你好👋！很高兴见到你，有什么可以帮助你的吗？\n"
     ]
    }
   ],
   "source": [
    "import torch\n",
    "from transformers import AutoModelForCausalLM, AutoTokenizer\n",
    "\n",
    "device = \"cuda\"\n",
    "\n",
    "tokenizer = AutoTokenizer.from_pretrained(\"../models/glm-4-9b-chat\",trust_remote_code=True)\n",
    "\n",
    "query = \"你好\"\n",
    "\n",
    "inputs = tokenizer.apply_chat_template([{\"role\": \"user\", \"content\": query}],\n",
    "                                       add_generation_prompt=True,\n",
    "                                       tokenize=True,\n",
    "                                       return_tensors=\"pt\",\n",
    "                                       return_dict=True\n",
    "                                       )\n",
    "\n",
    "inputs = inputs.to(device)\n",
    "model = AutoModelForCausalLM.from_pretrained(\n",
    "    \"../models/glm-4-9b-chat\",\n",
    "    torch_dtype=torch.bfloat16,\n",
    "    trust_remote_code=True\n",
    ").to(device).eval()\n",
    "\n",
    "gen_kwargs = {\"max_length\": 2500, \"do_sample\": True, \"top_k\": 1}\n",
    "with torch.no_grad():\n",
    "    outputs = model.generate(**inputs, **gen_kwargs)\n",
    "    outputs = outputs[:, inputs['input_ids'].shape[1]:]\n",
    "    print(tokenizer.decode(outputs[0], skip_special_tokens=True))"
   ]
  },
  {
   "cell_type": "code",
   "execution_count": null,
   "id": "f40596e5-60ab-44e3-97a4-faeb55d8a7ce",
   "metadata": {
    "tags": []
   },
   "outputs": [],
   "source": [
    "import datasets\n",
    "from datasets import Dataset, load_dataset\n",
    "wikieval = load_dataset(path='json', data_files='wikieval.json', split='train')\n"
   ]
  },
  {
   "cell_type": "code",
   "execution_count": 11,
   "id": "9d876432-2364-43ee-a595-6c53cf4df0c0",
   "metadata": {
    "tags": []
   },
   "outputs": [],
   "source": [
    "def gen_response(query, model):\n",
    "    inputs = tokenizer.apply_chat_template([{\"role\": \"user\", \"content\": query}],\n",
    "                                       add_generation_prompt=True,\n",
    "                                       tokenize=True,\n",
    "                                       return_tensors=\"pt\",\n",
    "                                       return_dict=True\n",
    "                                       )\n",
    "    inputs = inputs.to(model.device)\n",
    "    gen_kwargs = {\"max_length\": 4096, \"do_sample\": True, \"temperature\": 0.7}\n",
    "    with torch.no_grad():\n",
    "        outputs = model.generate(**inputs, **gen_kwargs)\n",
    "        outputs = outputs[:, inputs['input_ids'].shape[1]:]\n",
    "    return tokenizer.decode(outputs[0], skip_special_tokens=True)"
   ]
  },
  {
   "cell_type": "code",
   "execution_count": 26,
   "id": "63015705-b3ce-41ad-9733-c7b2bfe9844f",
   "metadata": {
    "tags": []
   },
   "outputs": [
    {
     "data": {
      "text/plain": [
       "\"\\nHello! It seems like you're just testing the platform. If you need any information or assistance, feel free to ask! Whether it's about a specific topic or just a general question, I'm here to help.\""
      ]
     },
     "execution_count": 26,
     "metadata": {},
     "output_type": "execute_result"
    }
   ],
   "source": [
    "gen_response('test',model)"
   ]
  },
  {
   "cell_type": "code",
   "execution_count": 7,
   "id": "c39f14c8-ef52-4301-a84c-982dd89f67c0",
   "metadata": {
    "tags": []
   },
   "outputs": [],
   "source": [
    "def gen_prompt(dataset: Dataset, chat_style: bool = False):\n",
    "    prompts = []\n",
    "    for i in range(len(dataset)):\n",
    "        prompts.append(f\"{dataset['context_v1'][i][0]}\\n\\nQuestion: {dataset['question'][i]}\\n\\nAnswer:\")\n",
    "    if chat_style:\n",
    "        prompts = [[{\"role\": \"user\", \"content\": p}] for p in prompts]\n",
    "    return prompts\n",
    "msgs = gen_prompt(wikieval, chat_style=False)"
   ]
  },
  {
   "cell_type": "code",
   "execution_count": null,
   "id": "0458f0f5-cbd2-44fe-b0bf-4af55d77e607",
   "metadata": {},
   "outputs": [],
   "source": [
    "from tqdm import tqdm\n",
    "\n",
    "from concurrent.futures import ThreadPoolExecutor, as_completed\n",
    "def batch_generate(self,\n",
    "                prompts, \n",
    "                model,\n",
    "                max_workers: int = 1):\n",
    "\n",
    "    results = [None] * len(prompts)  # initialize the results\n",
    "    with ThreadPoolExecutor(max_workers=max_workers) as executor:\n",
    "        futures = {}\n",
    "        for idx, prompt in enumerate(prompts):\n",
    "            future = executor.submit(gen_response, prompt, model)\n",
    "            futures[future] = idx\n",
    "\n",
    "        for future in tqdm(as_completed(futures), total=len(prompts), desc=\"Generating\"):\n",
    "            idx = futures[future]\n",
    "            result = future.result()\n",
    "            results[idx] = result  # store the result at the correct order\n",
    "\n",
    "    return results"
   ]
  },
  {
   "cell_type": "code",
   "execution_count": 12,
   "id": "517cda07-8335-4485-bd24-167d467224a0",
   "metadata": {
    "tags": []
   },
   "outputs": [
    {
     "name": "stderr",
     "output_type": "stream",
     "text": [
      "100%|██████████| 50/50 [06:58<00:00,  8.37s/it]\n"
     ]
    }
   ],
   "source": [
    "res = []\n",
    "for m in tqdm(msgs):\n",
    "    res.append(gen_response(m, model))"
   ]
  },
  {
   "cell_type": "code",
   "execution_count": 17,
   "id": "44233d10-e3a4-4a74-858b-306b88fa7e74",
   "metadata": {},
   "outputs": [],
   "source": [
    "from typing import List\n",
    "import json\n",
    "def save_data(results:List[str], model_name, filename):\n",
    "    lines = []\n",
    "    for i in range(len(wikieval)):\n",
    "        lines.append({\n",
    "            'id': i,\n",
    "            'dataset': 'wikieval',\n",
    "            'context': wikieval['context_v1'][i][0],\n",
    "            'question': wikieval['question'][i].split('Question:')[1].strip(),\n",
    "            'gt_answer': wikieval['answer'][i].split('Answer:')[1].strip(),\n",
    "            'answer': results[i],\n",
    "            'model': model_name\n",
    "        })\n",
    "    json.dump(lines, open(f'{filename}.json','w+'))\n",
    "save_data(res, 'glm4-9b', 'glm4-9b')"
   ]
  },
  {
   "cell_type": "code",
   "execution_count": 14,
   "id": "f3456d6a-3da7-4507-9288-283a13852f5b",
   "metadata": {
    "tags": []
   },
   "outputs": [],
   "source": [
    "res = [r.strip() for r in res]"
   ]
  },
  {
   "cell_type": "code",
   "execution_count": 15,
   "id": "fcda7e0b-512a-4065-8f76-de941c8a78b7",
   "metadata": {},
   "outputs": [
    {
     "data": {
      "text/plain": [
       "['The scheduled launch date and time for the PSLV-C56 mission is Sunday, 30 July 2023, at 06:30 IST (Indian Standard Time) / 01:00 UTC (Coordinated Universal Time). The mission will be launched from the Satish Dhawan Space Centre First Launch Pad (FLP) in Sriharikota, Andhra Pradesh, India.',\n",
       " \"The objective of the Uzbekistan-Afghanistan-Pakistan Railway Project is to establish a direct railway link between Uzbekistan and Pakistan, with Afghanistan's territory serving as the transit route. This project is designed to enhance trade and logistics efficiency in the following ways:\\n\\n1. **Reduced Cargo Delivery Times**: By creating a direct rail connection, the project aims to significantly reduce the time it takes to deliver cargo between Uzbekistan and Pakistan. This is expected to cut delivery times by approximately five days, thereby improving the speed and reliability of trade between the countries.\\n\\n2. **Increased Trade Volume**: The improved logistics efficiency will likely lead to an increase in the volume of trade as the cost and time of transportation are reduced. This can attract more businesses to engage in cross-border trade, promoting economic growth and development in the region.\\n\\n3. **Improved Connectivity**: The railway will provide a more reliable and efficient means of transportation for both passengers and freight, fostering greater connectivity between the three countries. This will facilitate the movement of people, goods, and services, and encourage regional cooperation and integration.\\n\\n4. **Economic Growth**: By enhancing trade and economic activity, the project is expected to contribute to the overall economic growth of the region. The increased movement of goods will benefit various sectors, including agriculture, manufacturing, and services, and create new job opportunities.\\n\\n5. **Regional Stability**: A robust railway network can contribute to regional stability by fostering economic cooperation and reducing the economic dependence on less stable transport methods, such as road transport which can be affected by security concerns and adverse weather conditions.\\n\\nIn summary, the Uzbekistan-Afghanistan-Pakistan Railway Project is expected to enhance trade and logistics efficiency by reducing transportation times, increasing trade volume, improving connectivity, promoting economic growth, and contributing to regional stability.\",\n",
       " 'PharmaCann was founded in 2014, and its headquarters are located in the state of Illinois.',\n",
       " 'The film Oppenheimer was directed by Christopher Nolan, and Cillian Murphy stars as J. Robert Oppenheimer in the film.',\n",
       " \"Theranostics, also known as theragnostics, is an interdisciplinary field within precision medicine that integrates diagnostic and therapeutic strategies to enable personalized and targeted treatment. It aims to improve patient outcomes by providing a comprehensive approach that not only diagnoses diseases but also monitors treatment effectiveness in real time.\\n\\nThe combination of diagnostic and therapeutic approaches in theranostics works as follows:\\n\\n1. **Diagnostic Insight**: Theranostics begins with a diagnostic phase where imaging techniques or other diagnostic tools are used to identify and characterize diseases. This could involve visualizing the extent of a tumor, assessing organ function, or detecting the presence of specific molecular markers.\\n\\n2. **Target Identification**: Once the disease is diagnosed, theranostics identifies specific molecular targets that are associated with the disease. These targets could be proteins, receptors, or genes that are uniquely expressed or overexpressed in the diseased tissue.\\n\\n3. **Therapeutic Intervention**: The diagnostic information obtained is used to tailor therapeutic interventions. These interventions are designed to specifically target the identified molecular targets, thereby providing a more personalized treatment approach. This can include the use of targeted drugs, radiotherapy, or other treatments.\\n\\n4. **Real-Time Monitoring**: An essential aspect of theranostics is the ability to monitor the effectiveness of the therapeutic intervention in real time. This is achieved through the same diagnostic tools used in the initial diagnosis, which can detect changes in the disease or treatment response over time.\\n\\nThe integration of diagnostics and therapeutics in theranostics is facilitated by several key technologies and approaches:\\n\\n- **Nuclear Medicine**: Utilizes radiotracers and contrast agents to visualize and target specific tissues or molecular targets, both for diagnostic imaging and for delivering therapeutic radiation.\\n  \\n- **Imaging Techniques**: Advances in imaging, such as positron emission tomography (PET), single-photon emission computed tomography (SPECT), and magnetic resonance imaging (MRI), provide detailed images of the body that can be used for diagnosis and treatment monitoring.\\n  \\n- **Targeted Therapies**: These include targeted drug delivery systems that can deliver therapeutic agents directly to the site of disease, minimizing side effects and enhancing treatment efficacy.\\n  \\n- **Gene Therapy**: This involves modifying genes to treat or prevent diseases, often using vectors that can deliver genetic material to specific cells.\\n\\nBy combining these approaches, theranostics offers the potential for more precise and effective treatments that are tailored to the individual patient's disease and response to therapy. This personalized medicine approach can lead to better treatment outcomes, reduced side effects, and improved patient quality of life.\",\n",
       " 'The human climate niche refers to the range of climate conditions that have historically supported human life and activities, such as agriculture, across the globe over the past millennium. This niche is characterized by specific climate conditions that have enabled the sustenance and development of human societies.\\n\\nThe human climate niche is estimated by examining the relationship between human population density and mean annual temperature. This relationship is typically bimodal, meaning it has two distinct peaks or modes. The two modes are generally observed at approximately 15°C and around 20 to 25°C. The first mode at 15°C is often associated with tropical and subtropical regions, while the second mode at 20 to 25°C corresponds to temperate regions.\\n\\nTo estimate the human climate niche, researchers analyze historical data on human population distribution and correlate it with mean annual temperature data. They look for patterns in where humans have historically lived and thrived, identifying the temperature ranges that are most conducive to human activities. This analysis allows them to define the boundaries of the human climate niche, which represents the climate conditions that have historically supported human life and economic activities.\\n\\nBy using this method, scientists can project how the changing climate, particularly rising mean global temperatures, might affect human populations. As temperatures shift beyond the established human climate niche, it is predicted that a significant portion of the global population could be living in less favorable conditions, which may lead to challenges in sustaining current levels of human activity and population growth.',\n",
       " 'The taxonomy of Dasypoda radchenkoi places it within the family Melittidae, which is a species-poor family of solitary bees. The genus Dasypoda, to which Dasypoda radchenkoi belongs, is further divided into four subgenera. Dasypoda radchenkoi is classified under the subgenus Heterodasypoda, which also includes the Iberian pantaloon bee Dasypoda morotei.\\n\\nIn terms of its relationship to Dasypoda morotei, Dasypoda radchenkoi is the sister species of Dasypoda morotei. This relationship is inferred both from their morphological similarities and from their phylogenetic positioning. The fact that they are sister species suggests that they share a common ancestor and have diverged to become distinct species over time, despite their near-cryptic appearance, which makes them difficult to differentiate based on morphology alone.',\n",
       " 'The main product of Fremantle Octopus is Octopus djinda, which includes frozen raw tentacles, steamed tentacles, and marinated octopus. The company is based in Fremantle, Western Australia.',\n",
       " \"The Managing Director of FoodFutureCo is Gigi Lee Chang. She has a notable background in the food industry with several significant accomplishments:\\n\\n1. **Entrepreneurial Success**: Gigi Lee Chang is the founder of Plum Organics, a company known for its organic baby food products. Her work with Plum Organics helped establish a brand that has been influential in the organic food market.\\n\\n2. **Nonprofit Leadership**: She served as the CEO of Healthy Child Healthy World, a nonprofit organization focused on protecting children's health and the environment. This role allowed her to apply her business acumen to the social impact space.\\n\\n3. **Advisory Role**: Gigi has advised B Lab, a nonprofit organization that certifies businesses as B Corporations, which are legally required to consider the impact of their decisions on their workers, customers, suppliers, community, and the environment.\\n\\n4. **Influence in the Industry**: As a prominent figure in the sustainable food sector, Gigi Lee Chang has been recognized by Forbes as one of the eight women leading the future of food. Her influence extends beyond her own ventures, as she speaks at various summits and conferences such as FoodTank, sparks&honey, Foodable, Vitagora, Future of Food Summit, and Women in Green, where she shares her insights and contributes to shaping the future of the food industry.\",\n",
       " 'The purpose of designing and building the Fiat Ecobasic concept car was to demonstrate that it was feasible to create a vehicle capable of transporting four adults within a structure made entirely of fully recyclable composite materials. Additionally, the goal was to achieve this while keeping the production and operating costs of the car extremely low.',\n",
       " \"The purpose of the Rainbow Plaque programme in the UK is to commemorate and celebrate significant people, places, and moments in LGBTQIA+ history. This is achieved by installing commemorative plaques, modeled after the well-known UK blue plaque programmes run by English Heritage, local authorities, and other bodies. The distinctive feature of the Rainbow Plaque programme is its use of a blue circular plaque adorned with six rainbow colors, symbolizing the LGBTQIA+ community.\\n\\nCompared to other plaque programmes, the Rainbow Plaque programme has the following unique aspects:\\n\\n1. **Focus on LGBTQIA+ History**: While traditional blue plaques typically honor notable figures in general history, the Rainbow Plaque programme specifically highlights figures, events, and locations related to the LGBTQIA+ community.\\n\\n2. **Symbolism**: The use of the rainbow colors on the plaque is a direct reference to the LGBTQIA+ pride flag, symbolizing diversity, acceptance, and inclusion within the community.\\n\\n3. **Community Involvement**: The programme is often initiated and supported by local LGBTQIA+ organizations, such as the York Civic Trust and the York LGBT Forum, which helps to ensure that the selected sites and figures are representative of the community's values and history.\\n\\n4. **National Expansion**: While the programme started locally in York, it has expanded nationally with the support of organizations like the Wandsworth LGBTQ+ Forum and Studio Voltaire, showcasing a broader recognition and celebration of LGBTQIA+ heritage across the UK.\\n\\nIn essence, the Rainbow Plaque programme is a specialized form of historical commemoration that aims to give visibility and recognition to the LGBTQIA+ community, using the established format of plaque programs to tell their unique stories.\",\n",
       " 'The Zubaydah Trail, also known as the Al-Kufi pilgrimage route, is a historical trade route and pilgrimage path that spans over 1,300 kilometers and connects the city of Kufa in Iraq to the holy cities of Mecca and Medina in the Arabian Peninsula. It was constructed during the Abbasid Caliphate, a period that lasted from approximately 132 AH (750 CE) to 656 AH (1258 CE). This trail played a significant role in facilitating the movement of pilgrims, travelers, and caravans between Iraq and the holy sites of Islam.',\n",
       " 'The Chimnabai Clock Tower was completed in 1896, and it was named after Chimnabai I, who was a queen and the first wife of Sayajirao Gaekwad III of Baroda State.',\n",
       " \"Trolleybus Route 20 in Shanghai started its operations on 27 September 1928. The route passes by many major landmarks, including Zhongshan Park (Wanhangdu Road) in Changning District, Jing'an Temple, and The Bund. It also runs along parts of Nanjing Road, which is a famous shopping street in Shanghai. The terminus of the route is currently at Hankou Road & Middle Sichuan Road in Huangpu District.\",\n",
       " \"The Inter Expo Center in Sofia, Bulgaria, opened in 2001. Over the years, it has been expanded in several phases:\\n\\n1. Initial opening in 2001: The center initially featured two exhibition halls and outdoor exhibition spaces, along with office and trade spaces in an office tower and around the main entrance.\\n\\n2. First expansion in 2003: The center was expanded to include a congress center with eight congress halls and an additional exhibition hall.\\n\\n3. Further expansion in 2008: The Inter Expo Center was expanded once more with the opening of further exhibition halls.\\n\\n4. Metro station integration in 2012: The Inter Expo Center – Tsarigradsko shose Metro Station, part of the Sofia Metro, opened in April 2012 and was later renamed to bear the convention center's name.\\n\\n5. Renovation in 2019: The congress halls underwent a significant renovation, which was considered the biggest update to the center since its last expansion.\",\n",
       " 'Pope Benedict XVI became the head of the Catholic Church and sovereign of the Vatican City State on April 19, 2005. He resigned on February 28, 2013.',\n",
       " 'The crash of Yeti Airlines Flight 691 in Pokhara, Nepal, was primarily caused by a combination of factors, including pilot error and equipment malfunction. Key contributing factors identified in the investigation were:\\n\\n1. **Pilot Misoperation**: The pilots inadvertently feathered the propellers, which are designed to reduce drag during landing but also cut off engine thrust. This happened during the \"Before Landing Checklist\" when one of the pilots, possibly the monitoring pilot (Kamal KC), may have inadvertently moved the condition levers, which control the propellers, instead of the flap lever.\\n\\n2. **Lack of Recognition of the Situation**: Despite the propellers being feathered and the engines producing no thrust, the pilots did not recognize the situation and did not take appropriate action to rectify it. They mentioned multiple times that there was no power from the engines, but they failed to realize the feathered propeller condition.\\n\\n3. **Incorrect Flap Setting**: The pilots had set the flaps to 30 degrees, which was correct, but the feathered propellers prevented the aircraft from gaining lift and control, leading to a stall.\\n\\n4. **Inadequate Checklist Procedure**: The investigation indicated that the landing checklist was not properly followed, which may have contributed to the confusion and lack of corrective action by the pilots.\\n\\nThese factors combined to cause the aircraft to enter a stall, which resulted in the crash of the ATR 72 aircraft. The investigation also noted that the flight data and cockpit voice recorders were critical in piecing together the sequence of events leading to the crash.',\n",
       " \"The Starship rocket, developed by SpaceX, is one of the most powerful and tallest rockets in the world. Here's how its height and thrust compare to other notable rockets:\\n\\n**Height:**\\n- **Starship:** At 120 meters (394 feet) in height, Starship is one of the tallest rockets in development. It is currently the tallest rocket ever to fly.\\n- **Saturn V:** The Saturn V, which carried the Apollo missions to the Moon, was 110 meters (363 feet) tall.\\n- **Space Launch System (SLS):** The SLS, designed by NASA, is approximately 98 meters (321 feet) tall.\\n- **N1:** The Soviet Union's N1 rocket was about 100 meters (328 feet) tall.\\n\\n**Thrust:**\\n- **Starship:** Starship's Super Heavy booster has a liftoff mass of 5,000 metric tons and is designed to provide a total thrust of around 200 MN (44,500,000 lbf).\\n- **Saturn V:** The Saturn V's first stage, the S-IC, provided a thrust of about 7.6 MN (1,710,000 lbf).\\n- **SLS:** The SLS Block 1B configuration is expected to provide a liftoff thrust of around 8.4 MN (1,880,000 lbf).\\n- **N1:** The N1 had a thrust of approximately 10.5 MN (2,360,000 lbf).\\n\\nIn summary, Starship is not only taller than the Saturn V but also has a significantly greater thrust, making it the most powerful rocket in development as of my knowledge cutoff in early 2023. The Saturn V, while taller than the SLS and N1, had a lower thrust compared to Starship's Super Heavy booster. The SLS and N1 are shorter than Starship but still have less thrust.\",\n",
       " 'The Kyzylkum Desert is known for its rich deposits of various natural resources. It is particularly famous for its gold deposits, which include the well-known Muruntau gold-field that began development in the early 1970s. Other significant resources found in the region include uranium, copper, aluminium, silver, natural gas, and oil.\\n\\nIn terms of major industrial enterprises, the Kyzylkum Desert hosts several key facilities:\\n\\n1. **Navoi Mining and Smelting Complex (НГМК)**: This is one of the major industrial complexes in the region, involved in mining and smelting activities, particularly focused on gold and uranium.\\n\\n2. **Uzbek U.S.A. Joint Venture \"Zarafshan-Newmont\"**: This joint venture is engaged in the mining and processing of gold, contributing significantly to the region\\'s mining industry.\\n\\nAdditionally, the region has several centers for gas production, with Gazli and Mubarek being notable centers in this sector. These industrial activities are indicative of the desert\\'s economic importance despite its harsh environmental conditions.',\n",
       " 'The 80th annual Venice International Film Festival will take place from 30 August to 9 September 2023. The festival\\'s opening film will be \"Comandante,\" directed by Edoardo De Angelis.',\n",
       " 'Myosotis angustata is endemic to the South Island of New Zealand. Its conservation status is listed as Threatened – Nationally Critical, with the qualifiers Data Poor (DP) and Range Restricted (RR) on the most recent assessment (2017-2018) under the New Zealand Threatened Classification system for plants.',\n",
       " 'Mount Brown is located in Liberty County, Montana, United States. Its elevation is 6,958 feet (2,121 meters).',\n",
       " 'The type locality of the Laoshan tree frog (Rhacophorus laoshan) is located at 1389 meters above sea level in the Cenwangloashan Nature Reserve in China. The adult frog measures about 35 mm in snout-vent length.',\n",
       " \"The Roanoke and Tar River Railroad was fully merged into the Seaboard Air Line Railway network in 1911. After the merger, the line operated as part of the Seaboard Air Line's Lewiston Subdivision.\",\n",
       " \"Moud Goba has been involved with several organizations throughout her career as an LGBTIQ+ human rights activist:\\n\\n1. **Gay Afrika**: After her arrival in the UK, Goba founded this organization to help others like her find support and community.\\n\\n2. **UK Black Pride**: She is one of the founding members of this black gay pride event in London. Currently, she serves as the chair of the board of directors for UK Black Pride, which indicates her leadership role in the organization.\\n\\n3. **Micro Rainbow International**: Goba works as a project manager for this charity, which supports homeless LGBTIQ+ people seeking asylum. In this role, she contributes to helping refugees develop employability skills and leads the charity's safe housing project.\\n\\nHer current role at UK Black Pride is the chair of the board of directors, where she likely oversees the strategic direction and operations of the organization, ensuring that it continues to meet the needs of the black LGBTIQ+ community and promotes their rights and visibility.\",\n",
       " 'The purpose of the Modernizing Opioid Treatment Access Act is to address the national opioid epidemic by expanding access to methadone, a medication proven effective in treating opioid use disorder (OUD). The act aims to do this by:\\n\\n1. **Allowing Pharmacies to Provide Methadone**: The legislation would enable pharmacies to dispense methadone to patients with OUD, which is currently restricted to methadone clinics. This would potentially increase the number of locations where patients can obtain their medication, thereby improving convenience and accessibility.\\n\\n2. **Prescription of Take-Home Doses**: The bill would also permit approved healthcare providers to prescribe take-home doses of methadone to OUD patients. This would allow patients to receive their medication without the requirement of daily in-person visits to a clinic, which can be a significant barrier to treatment.\\n\\nBy relaxing the regulations that currently restrict methadone to be dispensed only at methadone clinics, the Modernizing Opioid Treatment Access Act seeks to make treatment more accessible, flexible, and patient-centered. The goal is to improve outcomes for individuals struggling with OUD by providing them with a more convenient and manageable treatment option.',\n",
       " 'Gaucho Americano had its world premiere on April 29, 2021, at the Hot Docs Canadian International Documentary Festival. It was commercially released in Chilean theaters on September 8, 2022.',\n",
       " 'The type locality of the Blakistonia plata spider is Texas, near Goondiwindi in the Darling Downs region of south-east Queensland, Australia. The significance of its specific epithet \"plata,\" which is Latin for \"silver,\" is that it alludes to the local silver mining industry in the area where the spider was discovered. This naming choice reflects the environmental and economic context of the type locality.',\n",
       " \"The Turkish Women's Football Super League typically consists of 16 teams. The format of the league can vary slightly from season to season, but generally, the teams are divided into two groups: one with 10 teams and the other with 9 teams. Each group plays a double round-robin match against the other teams in their group. After the group stage, the teams compete in a championship and relegation round to determine the champion and the teams that will be relegated. The champion club qualifies for the UEFA Women's Champions League.\",\n",
       " \"The Tomb of Alexander Stewart, also known as the Tomb of the Wolf of Badenoch, is where Alexander Stewart, Earl of Buchan, is buried. Alexander Stewart, the Wolf of Badenoch, was the third surviving son of King Robert II of Scotland. The tomb itself is in poor condition. The effigy placed on top of the altar tomb, which shows Stewart in full knightly armor, is particularly damaged, having been broken apart and defaced during the Scottish Reformation around 1560. It now consists of four separate pieces and is missing its right foot, with the face and left foot also severely damaged. Despite this, it remains one of the best-preserved pieces of royal medieval Scottish sculpture. The altar tomb, lined with 22 pleurants (weepers) dressed in armor, is also intact but bears the Latin inscription with details about Alexander Stewart's death.\",\n",
       " 'The 5th Separate Guards Tatsin Red Banner Order of Suvorov Tank Brigade was formed in 2009. Its military unit number is 46108.',\n",
       " \"The Siege of Mariupol lasted from February 24, 2022, to May 20, 2022. The outcome of the siege was a victory for Russia and the Donetsk People's Republic. Ukraine lost control of the city amidst Russia's eastern Ukraine offensive and southern Ukraine offensive. All Ukrainian troops remaining in Mariupol surrendered at the Azovstal Iron and Steel Works on May 20, 2022, after they were ordered to cease fighting.\",\n",
       " \"A large number of countries and international organizations have imposed sanctions against Russia and Crimea due to the annexation of Crimea in 2014 and the ongoing conflict in Eastern Ukraine, as well as the 2022 Russian invasion of Ukraine. The reasons for these sanctions primarily include:\\n\\n**Countries that imposed sanctions:**\\n\\n1. **United States**: Sanctions were imposed in response to the annexation of Crimea and the broader conflict in Eastern Ukraine.\\n2. **Canada**: Similar to the U.S., sanctions were targeted at the annexation of Crimea and the destabilization of Ukraine.\\n3. **European Union (EU)**: The EU imposed sanctions due to the violation of international law and the territorial integrity of Ukraine.\\n4. **United Kingdom (UK)**: Sanctions were imposed in coordination with the EU and as a stand against the illegal annexation of Crimea.\\n5. **Japan**: Sanctions were in response to the annexation of Crimea and to express disapproval of the actions that threatened Ukraine's sovereignty.\\n6. **Australia**: Sanctions were imposed due to the annexation of Crimea and to support Ukraine's territorial integrity.\\n7. **Albania, Iceland, and Montenegro**: These countries, which were not part of the EU at the time, imposed sanctions in solidarity with the EU's stance.\\n8. **Moldova**: Sanctions were imposed against individuals involved in the annexation of Crimea and against former Ukrainian officials.\\n9. **Belarus**: Sanctions were imposed for its cooperation with and assistance to Russian armed forces.\\n\\n**International Organizations:**\\n\\n1. **United Nations (UN)**: While the UN did not impose sanctions itself, it passed resolutions condemning the annexation of Crimea and expressing support for Ukraine's territorial integrity.\\n2. **North Atlantic Treaty Organization (NATO)**: NATO expressed solidarity with Ukraine and condemned the annexation of Crimea, although it did not impose sanctions.\\n\\n**Reasons for the sanctions:**\\n\\n1. **Annexation of Crimea**: The primary reason for sanctions was the illegal annexation of Crimea by Russia in 2014, which was widely condemned as a violation of international law and Ukraine's territorial integrity.\\n2. **Conflict in Eastern Ukraine**: The sanctions were also imposed in response to the ongoing conflict in Eastern Ukraine, which was seen as an attempt to destabilize Ukraine and undermine its sovereignty.\\n3. **Human Rights Abuses**: Sanctions were also a response to reports of human rights abuses in Crimea and Eastern Ukraine, including the persecution of ethnic Ukrainians and others.\\n4. **2022 Russian Invasion of Ukraine**: The sanctions were expanded and intensified following Russia's full-scale invasion of Ukraine in February 2022, which was seen as a direct aggression against a neighboring country.\\n\\nThe sanctions were targeted at various levels, including individuals, businesses, and government officials, with the aim of imposing economic costs on Russia to deter further aggression and encourage compliance with international law and the Minsk agreements.\",\n",
       " 'The Sri Lankan economic crisis was caused by a combination of factors, including:\\n\\n1. **Tax Cuts and Money Creation**: The government\\'s decision to implement large-scale tax cuts, including reducing the VAT and corporate tax rates, resulted in significant losses of tax revenue. To compensate for these losses, the Central Bank of Sri Lanka (CBSL) resorted to printing money, which led to inflation and a devaluation of the currency.\\n\\n2. **External Debt**: Sri Lanka\\'s debt increased substantially over the years, largely due to borrowing from foreign investors and lenders. The country\\'s external debt rose from US$11.3 billion in 2005 to US$56.3 billion in 2020, leading to a high debt-to-GDP ratio and a strain on the economy.\\n\\n3. **Political Instability and Policy Changes**: Frequent changes in government and policy reversals contributed to economic uncertainty. For instance, the reversal of certain fiscal and monetary policies implemented under an IMF-supported program towards fiscal monetary consolidation worsened the economic outlook.\\n\\n4. **Vulnerability to External Shocks**: The 2019 Sri Lanka Easter bombings and the impact of the COVID-19 pandemic compounded the economic issues, as they disrupted tourism and other economic activities, further reducing government revenue and increasing the country\\'s reliance on foreign assistance.\\n\\n5. **Unsustainable Borrowing Practices**: The government was accused of using borrowed funds for non-essential projects and \"vanity projects,\" rather than for national utility projects that could have contributed to long-term economic growth.\\n\\n6. **Currency Devaluation**: The devaluation of the Sri Lankan rupee made imports more expensive, contributing to inflation and exacerbating the economic crisis.\\n\\n7. **Monetary Policy Missteps**: The CBSL\\'s decision to continue money creation despite warnings from the IMF and other experts contributed to hyperinflation and a loss of confidence in the currency.\\n\\n8. **Human Rights and Economic Crimes**: Some experts and reports have suggested that the economic crisis was also a result of officials\\' impunity for human rights abuses and economic crimes, which undermined the rule of law and economic stability.\\n\\nThese factors, both domestic and international, interacted with each other, leading to a multifaceted economic crisis that has affected the country\\'s economy, social welfare, and political stability.',\n",
       " 'In the 2022 Hormozgan earthquakes, seven people were killed and dozens were injured. The maximum intensity of the earthquakes was VII (Very strong).',\n",
       " 'Seven people were killed and 48 others were injured in the mass shooting during the Independence Day parade in Highland Park, Illinois.',\n",
       " 'Some of the controversies surrounding Uber include:\\n\\n1. **Ignoring and Evading Local Regulations**: Uber has been accused of entering markets without adhering to local regulations, using political campaigns and lobbying to change laws to its advantage. It has also been charged with using software like \"Greyball\" to avoid law enforcement in areas where its service was illegal.\\n\\n2. **Attempts to Sabotage Competitors**: Uber has been implicated in tactics to disrupt its competitors, such as ordering and cancelling rides on services like Lyft and Gett.\\n\\n3. **Wage Disputes**: Uber has faced legal actions and settlements over claims that it misled drivers about earnings and underpaid them, including issues with commission calculations.\\n\\n4. **Boycott in the US**: In response to political stances taken by its CEO, Travis Kalanick, and the company\\'s political ties, there was a boycott campaign against Uber.\\n\\n5. **Sexual Harassment Allegations and Management Shakeup**: Uber has been the subject of multiple sexual harassment allegations, leading to a major management shakeup, including the resignation of CEO Travis Kalanick.\\n\\n6. **God View and Privacy Concerns**: There have been concerns about Uber\\'s \"God View\" feature, which allows employees to track customers, and the general handling of customer privacy.\\n\\n7. **Delayed Disclosure of Data Breaches**: Uber has faced criticism for delays in disclosing data breaches, including the exposure of personal information of drivers and customers.\\n\\nThese controversies have impacted Uber\\'s reputation and legal standing, leading to bans in some countries and numerous legal challenges.',\n",
       " 'The estimated timeline for fully restoring power in Moore County after the shooting attack on the electrical distribution substations was initially four days. However, as the repairs progressed, the timeline was revised. By December 6, it was estimated that repairs and restoration of power county-wide could be completed by midnight December 7. By December 7, the number of customers without power had significantly decreased, and the curfew was lifted, indicating that the restoration process was ahead of schedule.',\n",
       " \"The ethnic violence in Manipur in 2023 was caused by a combination of historical tensions and recent political events. Key factors included:\\n\\n1. **Land and Resource Disputes**: The Meitei community, which predominantly resides in the Imphal Valley, and the Kuki tribal community, living in the surrounding hills, have long-standing disputes over land and resources. The Meiteis are the majority in Manipur and dominate political power, while the Kukis, predominantly Christians, are a significant minority living in the hills.\\n\\n2. **Scheduled Tribe Status**: The Manipur High Court's order on 14 April 2023 to recommend Scheduled Tribe status for the Meitei community, which would have given them land rights in the hills, triggered the violence. This order was opposed by the Kuki community, who feared that it would threaten their land rights.\\n\\n3. **Government Policies**: The Manipur state government's actions, including eviction drives targeting illegal immigrants and forest dwellers in Kuki areas, were seen as discriminatory and as a pretext to drive the tribal population away from their lands.\\n\\n4. **Political Polarization**: The state government's policies and statements further polarized the communities. The Chief Minister, N. Biren Singh, was accused of targeting the Kuki community, which exacerbated tensions.\\n\\nConsequences of the violence included:\\n\\n1. **Casualties and Displacement**: As of 4 July 2023, 142 people were killed, over 300 wounded, and approximately 54,488 displaced due to the violence.\\n\\n2. **Property Damage**: Several houses, places of worship, and other properties were burnt and destroyed in the Imphal Valley and other districts.\\n\\n3. **Economic Impact**: The violence disrupted economic activities, including trade and transportation, impacting the local economy.\\n\\n4. **Humanitarian Crisis**: The displaced people faced challenges in accessing basic amenities like food, shelter, and healthcare.\\n\\n5. **Investigations and Reactions**: A panel led by a retired Chief Justice was established to investigate the violence, and a peace committee was formed under the Governor. The Central Bureau of Investigation (CBI) was tasked with probing six cases related to conspiracy in the violence.\\n\\nThe ethnic violence in Manipur in 2023 underscored the deep-seated issues of land rights, identity, and political power in the state, with profound human and economic consequences.\",\n",
       " 'The Chinese balloon spotted in North American airspace had a payload described as a \"technology bay\" estimated to be the size of \"two or three school buses.\" It was powered by sixteen solar arrays mounted on the payload. The balloon itself was 200 feet (61 meters) tall, according to U.S. General Glen D. VanHerck, with a diameter reported by AI startup Synthetaic using image data from Planet Labs spacecraft as 148 feet (45 meters). The payload was estimated to weigh more than 2,000 pounds (910 kilograms).',\n",
       " 'During the cold snap in Afghanistan in January 2023, temperatures reached as low as -33 °C (−27 °F), with snowfall as high as 30 centimeters (12 inches) in more mountainous regions. This extreme weather directly or indirectly killed at least 162 people across various provinces. Additionally, over 77,000 livestock were killed due to the severe weather conditions.',\n",
       " \"GPT-4 was released on March 14, 2023. Some of its capabilities include:\\n\\n1. **Multimodal Input**: GPT-4 can process both images and text as input, enabling it to describe humor in images, summarize text from screenshots, and answer questions with diagrams.\\n\\n2. **Enhanced Reliability and Creativity**: OpenAI claims that GPT-4 is more reliable and creative than its predecessor, GPT-3.5, and can handle more nuanced instructions.\\n\\n3. **Larger Context Window**: GPT-4 has a larger context window than GPT-3.5 and GPT-3, with versions having context windows of 8,192 and 32,768 tokens.\\n\\n4. **System Messages**: OpenAI introduced system messages to control the model's tone and behavior, such as instructing it to write in a specific style or format.\\n\\n5. **External Interface Interaction**: GPT-4 can interact with external interfaces, allowing it to perform tasks like web searches and generating images.\\n\\n6. **Coding Assistance**: GPT-4 has been reported to be useful for coding tasks, such as finding errors in code and suggesting optimizations.\\n\\n7. **Standardized Test Performance**: GPT-4 has demonstrated high performance on standardized tests like the SAT, LSAT, and the Uniform Bar Exam.\\n\\n8. **Medical Applications**: GPT-4 has shown aptitude in medical exams and has the potential to assist in tasks such as analyzing medical records and responding to patient questions.\\n\\nHowever, it's important to note that GPT-4 also has limitations, such as potential for hallucination, lack of transparency in decision-making, and potential cognitive biases.\",\n",
       " \"The current status of the Myanmar civil war is that it remains an ongoing conflict following the 2021 military coup. The National Unity Government (NUG), which includes former parliamentarians, has launched an offensive against the military junta, and the People's Defence Force (PDF) has been formed to fight against the junta. By 2022, the opposition had gained control over substantial territory, though it is sparsely populated, and the military has lost stable control over more than a third of the townships. The real number of townships under stable control by the junta is likely lower than officially admitted.\\n\\nAs of September 2022, there have been 1.3 million people internally displaced since the coup. This number is part of the broader humanitarian crisis in the country, where 17.6 million people require humanitarian assistance, 1.6 million are internally displaced, and 55,000 civilian buildings have been destroyed. Additionally, over 40,000 people have fled into neighboring countries. The situation is fluid and subject to change as the conflict continues.\",\n",
       " 'The Miss Grand Dominican Republic 2023 pageant will be held on August 4, 2023, at the Cibao Grand Theatre in Santiago de los Caballeros. The purpose of the pageant is to select a representative from the Dominican Republic to compete at the international level in Miss Grand International 2023, which is scheduled to take place in Vietnam on October 25, 2023. The event also serves as a showcase for beauty and talent, with candidates from thirty-one provinces of the country vying for the title.',\n",
       " 'The cause of the rebellion staged by the Wagner Group in 2023 was a culmination of increasing tensions between the Russian Ministry of Defence and the leader of Wagner, Yevgeny Prigozhin. Prigozhin had publicly criticized Defense Minister Sergei Shoigu and Chief of the General Staff Valery Gerasimov, blaming them for Russia\\'s military shortcomings and accusing them of handing over \"Russian territories\" to Ukraine. The rebellion was portrayed by Prigozhin as a response to an alleged attack on his forces by the ministry. He demanded that Shoigu and Gerasimov be turned over to him.\\n\\nThe rebellion ended with a settlement brokered by Belarusian president Alexander Lukashenko. Prigozhin agreed to end the rebellion, and Wagner forces turned around and began withdrawing from Rostov-on-Don. Subsequently, the Federal Security Service closed the case for armed rebellion under Article 279 of the Criminal Code, dropping the charges against the Wagner Group.',\n",
       " 'The gas supply outage in Sheffield, England in December 2022 was caused by a burst water main on the Yorkshire Water network. This breach resulted in more than 2 million liters of water flooding into the gas supply network, which was operated by Cadent Gas. The outage lasted for several days, with some properties being without a gas supply for almost two weeks. The timeline indicates that the initial report of the outage was on December 2, 2022, and the situation was declared a major incident by Sheffield City Council on December 7, 2022. By December 10, 2022, around three-quarters of affected properties had been reconnected to the gas network, but some areas continued to experience difficulties with full restoration.',\n",
       " 'The civil unrest and protests in Iran in September 2022 were sparked by the death in police custody of Mahsa Amini, a 22-year-old Kurdish Iranian woman. She was arrested by the Guidance Patrol for allegedly violating Iran\\'s mandatory hijab law by wearing her hijab \"improperly.\" According to eyewitnesses, Amini was severely beaten by Guidance Patrol officers, which was denied by Iranian authorities. The initial protests, mostly led by women, were sparked by the demand to end the mandatory hijab law. As the protests evolved, they expanded into a national movement with more diverse demands.\\n\\nThe main demands of the protesters included:\\n\\n1. **End of the Mandatory Hijab Law**: Protesters called for the abolition of the mandatory hijab law, which requires women to cover their hair in public.\\n2. **Demands for Women\\'s Rights**: The protests demanded increased rights for women, including equality and freedom from gender-based discrimination.\\n3. **Opposition to the Theocratic Regime**: Protesters sought the overthrow of the Islamic Republic and an end to theocratic rule, which is a significant shift from previous protests that focused on specific issues like election results or economic woes.\\n4. **Freedom of Expression and Assembly**: There were calls for greater freedom of expression and the right to peaceful assembly, which were severely restricted by the government.\\n5. **End to Corruption and Political Repression**: Protesters also demanded an end to corruption and political repression within the government.\\n6. **Improved Economic Conditions**: While not the primary cause of the unrest, economic grievances such as soaring prices, high unemployment, and corruption were also mentioned as contributing factors to the protests.',\n",
       " 'Venus has several types of volcanoes, which differ significantly from those on Earth in terms of their composition, structure, and formation processes.\\n\\n1. **Shield Volcanoes**: These are the most common type of volcano on Venus. They are characterized by their broad, gently sloping shapes, and are formed by the effusion of large volumes of fluid lava. Venusian shield volcanoes are often much larger than Earth\\'s shield volcanoes, with some covering hundreds of kilometers in area. The average height of Venusian shield volcanoes is only about 1.5 kilometers, despite their vast size, which is much flatter than Earth\\'s shield volcanoes.\\n\\n2. **Pancake Domes**: These are unusual structures that are up to 15 kilometers in diameter and less than 1 kilometer in height. Pancake domes are 100 times larger than lava domes on Earth and are associated with coronae and tesserae, which are large regions of highly deformed terrain unique to Venus. They are thought to be formed by highly viscous, silica-rich lava erupting under Venus\\'s high atmospheric pressure.\\n\\n3. **Scalloped Margin Domes (Tick-like Structures)**: These are volcanic domes with numerous legs or scalloped edges, giving them a \"tick-like\" appearance. They are thought to have undergone mass wasting events, such as landslides, on their margins. Deposits of debris can often be seen scattered around them.\\n\\n4. **Novae**: These are radial networks of dikes or grabens, formed when large quantities of magma are extruded onto the surface. They create radiating ridges and trenches that are highly reflective to radar. Novae are symmetrical around the point where the lava emerged and can sometimes have a depression caused by the collapse of the magma chamber.\\n\\n5. **Arachnoids**: These are named for their spider-web-like appearance, featuring several concentric ovals surrounded by a complex network of radial fractures similar to those of a nova. The origin of these features is not entirely understood.\\n\\nDifferences from Earth\\'s Volcanoes:\\n\\n- **Lava Composition**: Venusian lava is typically more viscous and silica-rich than Earth\\'s lava, which can lead to the formation of pancake domes and scalloped margin domes.\\n\\n- **Atmospheric Conditions**: Venus has a very thick and dense atmosphere composed mostly of carbon dioxide, which affects the behavior of lava and the types of volcanic structures that can form.\\n\\n- **Lack of Tectonic Plates**: Venus does not have tectonic plates, so its volcanism is not driven by plate tectonics as it is on Earth. Instead, it is thought to be related to mantle plumes and the planet\\'s overall thermal state.\\n\\n- **Surface Features**: Venusian volcanoes are often associated with unique surface features such as coronae and tesserae, which are not found on Earth.\\n\\n- **Activity**: Venusian volcanoes can be very large but relatively flat, which is different from the taller, steeper volcanoes found on Earth, which are often associated with plate boundaries and subduction zones.',\n",
       " 'Several measures are implemented for pandemic prevention to reduce the risk of new infectious diseases emerging and to prevent outbreaks from escalating into pandemics. Here are some key measures:\\n\\n1. **Infrastructure and International Development:**\\n   - Strengthening public health systems to ensure they can detect cases early, diagnose them accurately, implement disease control measures, and collaborate with international authorities.\\n   - Improving health care infrastructure in developing countries to enhance their ability to respond to outbreaks.\\n   - Ensuring vaccine supply routes and diagnostics are available and accessible, especially in areas with weaker surveillance and health systems.\\n\\n2. **Technology-Centric Measures:**\\n   - **Biosafety Technologies and Biotechnology Regulation:**\\n     - Implementing laboratory containment technologies to ensure that research on highly contagious biological agents is conducted in secure environments.\\n     - Improving physical security and educating scientists about the risks associated with biohazards.\\n     - Reviewing processes to ensure that risks from research are justified and minimized, including the restriction of certain gain-of-function studies.\\n     - Monitoring and strengthening laboratory protocols and field work protocols worldwide to prevent accidental release of pathogens.\\n   - **Surveillance and Monitoring:**\\n     - Establishing active surveillance systems to detect and monitor potential zoonotic spillovers from animals to humans.\\n     - Conducting research on emerging pathogens and maintaining genetic databases to track and understand the evolution of viruses.\\n   - **Research and Development:**\\n     - Investing in research to develop new vaccines, antivirals, and diagnostics that can be rapidly deployed during an outbreak.\\n     - Preparing for future outbreaks by stockpiling medical supplies and ensuring the availability of personal protective equipment (PPE).\\n\\n3. **International Coordination and Collaboration:**\\n   - Strengthening international health regulations and global institutions to improve global health security.\\n   - Enhancing information sharing and coordination between countries and international organizations to respond effectively to outbreaks.\\n   - Developing frameworks for rapid response and recovery from pandemics, including the integration of preparation, response, and recovery into a continuous cycle.\\n\\n4. **Community Engagement and Education:**\\n   - Educating the public about the importance of hygiene practices, such as handwashing and respiratory etiquette, to prevent the spread of infectious diseases.\\n   - Promoting the importance of early reporting of symptoms and adherence to public health guidance during outbreaks.\\n\\n5. **Wildlife Management:**\\n   - Implementing strategies to reduce human-wildlife contact, which can help prevent the spillover of zoonotic diseases from animals to humans.\\n   - Monitoring wildlife populations and studying the potential reservoirs of emerging pathogens.\\n\\nBy combining these measures, public health authorities and scientists aim to reduce the risk of pandemics and improve the ability to respond to and control outbreaks when they do occur.',\n",
       " \"The main science objectives of the JUICE orbiter are to study the three Galilean moons of Jupiter: Ganymede, Callisto, and Europa. These objectives are designed to understand the moons' compositions, their potential to support life, and their geological and atmospheric properties.\\n\\nFor Ganymede, the main science objectives include:\\n1. Characterization of the ocean layers and detection of subsurface water reservoirs.\\n2. Topographical, geological, and compositional mapping of the surface.\\n3. Study of the physical properties of the icy crusts.\\n4. Characterization of the internal mass distribution, dynamics, and evolution of the interiors.\\n5. Investigation of Ganymede's tenuous atmosphere.\\n6. Study of Ganymede's intrinsic magnetic field and its interactions with the Jovian magnetosphere.\\n\\nFor Callisto, the objectives are somewhat similar but less detailed, focusing primarily on the moon's composition and surface features.\\n\\nFor Europa, the objectives are more specific, focusing on:\\n1. The chemistry essential to life, including organic molecules.\\n2. Understanding the formation of surface features and the composition of non-water-ice material.\\n3. Providing the first subsurface sounding of the moon, including the determination of the minimal thickness of the icy crust over the most recently volcanically active regions.\\n\\nIn summary, JUICE's main science objectives are to investigate the habitability potential of these moons, their geological and physical properties, and their interactions with Jupiter's magnetosphere.\"]"
      ]
     },
     "execution_count": 15,
     "metadata": {},
     "output_type": "execute_result"
    }
   ],
   "source": [
    "res"
   ]
  }
 ],
 "metadata": {
  "kernelspec": {
   "display_name": "Python 3 (ipykernel)",
   "language": "python",
   "name": "python3"
  },
  "language_info": {
   "codemirror_mode": {
    "name": "ipython",
    "version": 3
   },
   "file_extension": ".py",
   "mimetype": "text/x-python",
   "name": "python",
   "nbconvert_exporter": "python",
   "pygments_lexer": "ipython3",
   "version": "3.10.14"
  }
 },
 "nbformat": 4,
 "nbformat_minor": 5
}
